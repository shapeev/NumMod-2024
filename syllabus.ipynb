{
 "cells": [
  {
   "cell_type": "markdown",
   "metadata": {
    "slideshow": {
     "slide_type": "slide"
    }
   },
   "source": [
    "# Numerical Modeling  \n",
    "\n",
    "## Skoltech, Term 3, 2024"
   ]
  },
  {
   "cell_type": "markdown",
   "metadata": {
    "slideshow": {
     "slide_type": "slide"
    }
   },
   "source": [
    "## Time and Dates\n",
    "\n",
    "Where: R2-2026\n",
    "\n",
    "Days: Mon, Tue, Thu;\n",
    "\n",
    "Time: 16:00-18:30"
   ]
  },
  {
   "cell_type": "markdown",
   "metadata": {
    "slideshow": {
     "slide_type": "slide"
    }
   },
   "source": [
    "## Team\n",
    "\n",
    "* Alexander Shapeev, Professor\n",
    "* Daniil Egorov, PhD student"
   ]
  },
  {
   "cell_type": "markdown",
   "metadata": {
    "slideshow": {
     "slide_type": "slide"
    }
   },
   "source": [
    "## Course description\n",
    "\n",
    "The Numerical Modeling course combines the content of the former Computational Science and Engineering I and II (CSE-I and CSE-II). Modeling is about developing models of phenomena. Most of the models are expressed in terms of *PDE*s (Partial differential equations). This course will discuss (the basics of) how to solve them on a computer.\n",
    "\n",
    "**Prerequisite**: Numerical Linear Algebra; Python/Matlab/equivalent (make sure we know your programming language of choice)"
   ]
  },
  {
   "cell_type": "markdown",
   "metadata": {
    "slideshow": {
     "slide_type": "slide"
    }
   },
   "source": [
    "## Learning outcomes\n",
    "\n",
    "- Formulate initial- and boundary-value problems for PDEs\n",
    "- Discretize PDEs with appropriate numerical methods\n",
    "- Write a simple code for a numerical method\n",
    "- Optimize solution-dependent quantities with respect to PDE parameters\n",
    "- Judge about the properties (e.g., accuracy, computational efficiency) of a numerical method\n",
    "    - theoretically, and\n",
    "    - based on actual computations"
   ]
  },
  {
   "cell_type": "markdown",
   "metadata": {
    "slideshow": {
     "slide_type": "slide"
    }
   },
   "source": [
    "## Acknowledgements\n",
    "\n",
    "This course is based, in part, on the material\n",
    "\n",
    "* from the the \"FastPDE\" course by Laurent Demanet, Jacob White (MIT), Ivan Oseledets (Skoltech)\n",
    "* from the \"CSE-I Modeling and Simulation\" by Athanasios Polimeridis\n"
   ]
  },
  {
   "cell_type": "markdown",
   "metadata": {
    "slideshow": {
     "slide_type": "slide"
    }
   },
   "source": [
    "## How do we grade\n",
    "\n",
    "- **20%** homework\n",
    "- **10%** class participation\n",
    "- **40%** 2 written tests\n",
    "- **30%** Application Period\n",
    "- **pass-fail** oral test\n",
    "\n",
    "<br>\n",
    "\n",
    "- Attendence is **compulsory**, unless explicitly agreed otherwise with the instructor\n",
    "- **Strict** deadlines."
   ]
  },
  {
   "cell_type": "markdown",
   "metadata": {
    "slideshow": {
     "slide_type": "slide"
    }
   },
   "source": [
    "## Technical details\n",
    "\n",
    "1. We will use [Python](http://www.python.org) and [IPython/Jupyter notebooks](http://nbviewer.ipython.org/github/ellisonbg/talk-2014-summer/blob/master/Jupyter%20and%20IPython.ipynb)\n",
    "for everything (lecture notes & homework assignments)\n",
    "* Highly recommended is [Anaconda Python Distribution](http://continuum.io/downloads)\n",
    "* See the Python [Crash Course](https://github.com/oseledets/nla2015/blob/master/lectures/Python_crash_course.ipynb) from Numerical Linear Algebra\n",
    "* Feel free to ask TAs for help"
   ]
  },
  {
   "cell_type": "markdown",
   "metadata": {
    "slideshow": {
     "slide_type": "slide"
    }
   },
   "source": [
    "## Preliminary Schedule\n",
    "- **Week 1:** Physical models & PDE, Interpolation, Quadrature, Finite Differences 1D/2D\n",
    "- **Week 2:** Optimization, Finite Elements (basic elements, meshes, tools for meshing)\n",
    "- **Week 3:** Spectral methods\n",
    "- **Week 4:** Midterm Test\n",
    "- **Week 5,6:** Finite volumes, Hyperbolic problems, Simplectic integrators, other advanced topics\n",
    "- **Week 7:** Final exam, oral test, App period\n",
    "- **Week 8:** App period"
   ]
  },
  {
   "cell_type": "markdown",
   "metadata": {
    "slideshow": {
     "slide_type": "slide"
    }
   },
   "source": [
    "## Homework\n",
    "- 4 problem sets\n",
    "- On Friday (starting from the **week 2**) will be the deadline\n",
    "\n",
    "## Tests\n",
    "- 2 written tests (**week 4 or 5** and **week 7**)\n",
    "- Oral test (**week 7**)"
   ]
  },
  {
   "cell_type": "markdown",
   "metadata": {
    "slideshow": {
     "slide_type": "slide"
    }
   },
   "source": [
    "## Materials\n",
    "\n",
    "- Lecture notes\n",
    "- See materials from the [2019 course](https://github.com/shapeev/NumMod-2019)\n",
    "- Bother me or TAs with questions\n",
    "- We will point out important books/papers when appropriate"
   ]
  },
  {
   "cell_type": "markdown",
   "metadata": {
    "slideshow": {
     "slide_type": "slide"
    }
   },
   "source": [
    "## Starting\n",
    "Now let us start the [First lecture](lecture-1.ipynb)\n"
   ]
  },
  {
   "cell_type": "code",
   "execution_count": null,
   "metadata": {
    "collapsed": true
   },
   "outputs": [],
   "source": []
  }
 ],
 "metadata": {
  "celltoolbar": "Slideshow",
  "kernelspec": {
   "display_name": "Python 3 (ipykernel)",
   "language": "python",
   "name": "python3"
  },
  "language_info": {
   "codemirror_mode": {
    "name": "ipython",
    "version": 3
   },
   "file_extension": ".py",
   "mimetype": "text/x-python",
   "name": "python",
   "nbconvert_exporter": "python",
   "pygments_lexer": "ipython3",
   "version": "3.9.13"
  }
 },
 "nbformat": 4,
 "nbformat_minor": 1
}
