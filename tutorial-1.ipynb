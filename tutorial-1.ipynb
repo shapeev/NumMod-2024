{
 "cells": [
  {
   "cell_type": "markdown",
   "metadata": {
    "slideshow": {
     "slide_type": "slide"
    }
   },
   "source": [
    "# Tutorial 1: Interpolation and Quadrature"
   ]
  },
  {
   "cell_type": "markdown",
   "metadata": {
    "collapsed": true
   },
   "source": [
    "### Problem 1\n",
    "\n",
    "Interpolate the following function:\n",
    "$$f(x) = \\frac{1}{1+25 x^2}$$\n",
    "for $x \\in [-1, 1]$ by the following methods.\n",
    "\n",
    "* (a) On an equidistant (uniform) grid for piecewise constant and piecewise linear interpolation. \n",
    "* (b) Polynomial interpolation on a uniform grid (i.e., equidistant points), with any method.\n",
    "* (c) A Chebyshev grid (i.e., when the interpolation points are the roots of Chebyshev polynomials - google for the expression of the Chebyshev roots).\n",
    "\n",
    "Calculate the interpolation error as the number of points increases (or the grid resolution $h$ decreases). How does the interpolation error depend on the grid resolution (what is the order of convergence)? Plot this dependence on a logarithmic scale and comment on the results."
   ]
  },
  {
   "cell_type": "markdown",
   "metadata": {},
   "source": [
    "### Problem 2\n",
    "\n",
    "The integral of $f(x)$ from the previous problem is $(2 \\arctan(5))/5$. Using the interpolants from Problem 1(a), compute the integral of $f(x)$ over the interval $[-1,1]$ for different $h$ and compare with the exact answer"
   ]
  }
 ],
 "metadata": {
  "celltoolbar": "Slideshow",
  "kernelspec": {
   "display_name": "Python 3 (ipykernel)",
   "language": "python",
   "name": "python3"
  },
  "language_info": {
   "codemirror_mode": {
    "name": "ipython",
    "version": 3
   },
   "file_extension": ".py",
   "mimetype": "text/x-python",
   "name": "python",
   "nbconvert_exporter": "python",
   "pygments_lexer": "ipython3",
   "version": "3.9.13"
  }
 },
 "nbformat": 4,
 "nbformat_minor": 1
}
