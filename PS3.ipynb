{
 "cells": [
  {
   "cell_type": "markdown",
   "metadata": {},
   "source": [
    "# Numerical Modeling, Skoltech, Term 3, 2023"
   ]
  },
  {
   "cell_type": "markdown",
   "metadata": {},
   "source": [
    "## Problem Set 3"
   ]
  },
  {
   "cell_type": "markdown",
   "metadata": {},
   "source": [
    "### Spectral Methods\n",
    "\n",
    "Consider a problem of solving\n",
    "\\\\[\n",
    "\\begin{align*}\n",
    "-\\Delta u &= f, \\\\\n",
    "u|_\\Gamma &= 0.\n",
    "\\end{align*}\n",
    "\\\\]\n",
    "by a spectral method, where $\\Omega = [0,1]^2$ is a unit square and $\\Gamma=\\partial\\Omega$.\n",
    "\n",
    "In a spectral method you will be working with a representation of the solution in the form\n",
    "$$\n",
    "u(x,y) = \\sum_{i=1}^N \\sum_{j=1}^N \\hat{u}_{i,j} \\sin(\\pi i x) \\sin(\\pi j y),\n",
    "$$\n",
    "where $\\hat{u}^N$ is just an $N\\times N$ array.\n",
    "\n",
    "Knowing $u(x,y)$, it is often practically not possible to compute $\\hat{u}_{i,j}$ exactly. Hence one needs to use the [Discrete Sine Transform](https://docs.scipy.org/doc/scipy/reference/generated/scipy.fft.dst.html) (DST).\n",
    "The python's <tt>dst</tt> computes a one-dimensional DST, but we need a two-dimensional (2D) DST, which we compute in the following way:\n",
    "    \n",
    "* Compute values $u(x,y)$ for $N^2$ points inside the domain $(x,y) = (h k, h \\ell)$, $1\\leq k,\\ell \\leq N$, $h = 1/(N+1)$.\n",
    "\n",
    "* Apply <tt>dst</tt> to each line in this array. This way you will be computing a \"partial\" 2D DST\n",
    "$$\n",
    "u(x,y) = \\sum_{j=1}^N \\tilde{u}_{j}(x) \\sin(\\pi j y),\n",
    "$$\n",
    "\n",
    "* Apply <tt>dst</tt> to each column in the resulting array. This way you will be computing a full 2D DST.\n",
    "<br><br>\n"
   ]
  },
  {
   "cell_type": "markdown",
   "metadata": {},
   "source": [
    "### Problem 1 (Spectral Methods) (80pt)\n",
    "\n",
    "* Part (a)\n",
    "    - Take $u^0(x,y) = \\sin(\\pi x) \\sin(\\pi y)$ and compute $f = -\\Delta u^0$. \n",
    "    - **(8pt)** Calculate, explicitly, the coefficients $\\hat{f}_{i,j}$ in \n",
    "    $$\n",
    "    f(x,y) = \\sum_{i=1}^N \\sum_{j=1}^N \\hat{f}_{i,j} \\sin(\\pi i x) \\sin(\\pi j y).\n",
    "    $$\n",
    "    Then, using values of $f$ at $N^2$ points, calculate the coefficients $\\hat{f}^{N}_{i,j}$ by the procedure outlined above.\n",
    "    (Here $\\hat{f}$ is an \"infinite array\" that you will compute explicitly, while $\\hat{f}^N$ will be an NxN array that you will compute using python.)\n",
    "    Compare $\\hat{f}$ and $\\hat{f}^N$.\n",
    "    - In this case, obviously, a solution to the problem is $u=u_0$, but let us now pretend we do not know it.\n",
    "\n",
    "    - **(8pt)** Compute the coefficients $\\hat{u}^N$ from $\\hat{f}^N$ found in part (a).\n",
    "\n",
    "    - **(8pt)** We will estimate the error between the two solutions in the following way. We will take $N^2$ points in our domain, of the form $(h k, h \\ell)$, same as before. We will then be interested in\n",
    "    $$\n",
    "    {\\rm err}_N = \\max_{1\\leq k,\\ell\\leq N} |u^N(h k, h \\ell) - u^0(h k, h \\ell)|\n",
    "    $$\n",
    "    which we call an error of the solution. Calculate the error of your solution for a number of values of $N$. Explain your results\n",
    "\n",
    "* Part (b)\n",
    "    - Let us now take something a little more complicated,\n",
    "    $$\n",
    "    u^0(x,y) = \\sin(\\pi x^2) \\sin(\\pi y^2),\n",
    "    \\qquad\\text{and}\\qquad\n",
    "    f = -\\Delta u_0,\n",
    "    $$\n",
    "    - You cannot compute the coefficients $\\hat{f}$ explicitly, so you'll have to live with only $\\hat{f}^N$.\n",
    "    - **(8pt)** Compute $\\hat{u}^N$, the error ${\\rm err}_N$, and report the error for different values of $N$. Would you say the error decays fast as $N$ increases?\n",
    "    - Suppose that the spectral method has an order of convergence, in other words the error behaves like ${\\rm err}_N = C N^{-\\rm ord}$ and you need to find ${\\rm ord}$.\n",
    "        -  **(8pt)** Derive the formula\n",
    "        $$\n",
    "        {\\rm ord}_N = \\frac{\\ln({\\rm err}_N)-\\ln({\\rm err}_{2N})}{\\ln(2)}\n",
    "        $$\n",
    "        -  **(8pt)** Hence compute ${\\rm ord}_N$ for $N=1,\\ldots,20$ and comment on your results. (You should start with taking each value of $N$ between 1 and 20 to understand the behavior, but you don't need to present all these numbers in your report, as long as you can illustrate the right behavior.)\n",
    "\n",
    "* Part (c)\n",
    "    - Let us now play a \"fair game\": take\n",
    "    $$\n",
    "    f(x,y) = 1.\n",
    "    $$\n",
    "    We then do not know the solution.\n",
    "    - Use your code from part (b) to compute $\\hat{f}^N$, and $\\hat{u}^N$.\n",
    "    - **(8pt)** Instead of the exact error we have to use the error estimate\n",
    "    $$\n",
    "    {\\rm errest}_N = \\max_{1\\leq k,\\ell\\leq N} |u^N(h k, h \\ell) - u^{2N+1}(h k, h \\ell)|\n",
    "    $$\n",
    "    (Why did we take $2N+1$ instead $2N$?)\n",
    "    Report the values of ${\\rm errest}_N$ for a sequence of values of $N$.\n",
    "    \n",
    "    -  **(8pt)** Hence compute ${\\rm errest}_N$ for a sequence of $N$ and comment on your results.\n",
    "    -  **(8pt)** Finally, using the same formula (but with ${\\rm errest}$),\n",
    "    $$\n",
    "    {\\rm ord}_N = \\frac{\\ln({\\rm errest}_N)-\\ln({\\rm errest}_{2N})}{\\ln(2)}\n",
    "    $$\n",
    "    compute ${\\rm ord}_N$ for a squence of values of $N$. Comment on your results. \n",
    "*  **(8pt)** Compare the behavior for ${\\rm err}$, ${\\rm errest}$, and ${\\rm ord}$ for parts (b) and (c). What is the main reason for the qualitative difference in the speed of convergence?"
   ]
  },
  {
   "cell_type": "markdown",
   "metadata": {},
   "source": [
    "### Problem 2 (Adaptivity) (20 pts)\n",
    "\n",
    "Complete the adaptive FEM code that solves the Poisson equations form the lecture. Use [this notebook](PS3_Pr2_code.ipynb)\n",
    "The notebook implements the following, suboptimal error estimator:\n",
    "$$ \\begin{align*} \\|\\nabla (u_h-u)\\|^2 &\\leq~~ С \\sum_T h_T^2 \\|f\\| _{L^2}^2 \\end{align*}.$$\n",
    "\n",
    "* (a) implement the following estimator `simple_2_estimator`:\n",
    "$$ \\begin{align*} \\|\\nabla (u_h-u)\\|^2 &\\leq~~ С \\sum _{\\gamma} h _{\\gamma} \\big\\|[\\nabla u _h] _{\\gamma} \\big\\|_{L^2(\\gamma)}^2 \\end{align*}.$$\n",
    "\n",
    "* (b) modify the function `good_estimator` and hence implement the right estimator: $$ \\begin{align*} \\|\\nabla (u_h-u)\\|^2 &\\leq~~ С \\sum_T h_T^2 \\|f\\| _{L^2}^2 + С \\sum _{\\gamma} h _{\\gamma} \\big\\|[\\nabla u _h] _{\\gamma} \\big\\|_{L^2(\\gamma)}^2 \\end{align*}.$$ <!-- You can refer to the [notebook](https://github.com/MakaEdgar/NumModeling_Seminars/blob/main/Seminar_3_refine_mesh.ipynb) presented at the adaptivity lecture. -->\n",
    "\n",
    "* (c) compare the efficiency of all the three estimators and comment which one(s) is/are best.\n"
   ]
  },
  {
   "cell_type": "code",
   "execution_count": null,
   "metadata": {},
   "outputs": [],
   "source": []
  }
 ],
 "metadata": {
  "celltoolbar": "Slideshow",
  "kernelspec": {
   "display_name": "Python 3 (ipykernel)",
   "language": "python",
   "name": "python3"
  },
  "language_info": {
   "codemirror_mode": {
    "name": "ipython",
    "version": 3
   },
   "file_extension": ".py",
   "mimetype": "text/x-python",
   "name": "python",
   "nbconvert_exporter": "python",
   "pygments_lexer": "ipython3",
   "version": "3.9.13"
  }
 },
 "nbformat": 4,
 "nbformat_minor": 1
}
