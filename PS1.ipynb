{
 "cells": [
  {
   "cell_type": "markdown",
   "metadata": {},
   "source": [
    "# NumMod, Skoltech, Term 3, 2023"
   ]
  },
  {
   "cell_type": "markdown",
   "metadata": {},
   "source": [
    "## Problem Set 1"
   ]
  },
  {
   "cell_type": "markdown",
   "metadata": {
    "collapsed": true
   },
   "source": [
    "### Problem 1 (30pt)\n",
    "\n",
    "Consider the following function\n",
    "$$f(x) = \\sqrt{x}$$\n",
    "on the interval $x \\in [0, 1]$.\n",
    "\n",
    "* (a) Interpolate the function with piecewise constant and piecewise linear interpolation on a uniform mesh. Find, approximately, the maximal error of interpolation (you can sample the function at several points inside each interpolation interval), as a function of the interval length.\n",
    "* (b) Find the integral of $f(x)$ on the interval $[0,1]$ by using the midpoint rule, the trapeziodal rule and Simpson's method. Compute the error and compare the error between the three methods. What is the order of convergence of each of these three methods?"
   ]
  },
  {
   "cell_type": "markdown",
   "metadata": {},
   "source": [
    "### Modeling a Cantilever Beam"
   ]
  },
  {
   "cell_type": "markdown",
   "metadata": {},
   "source": [
    "Consider a beam fixed at one end (called a [cantilever](http://en.wikipedia.org/wiki/Cantilever) beam) as shown here:\n",
    "<img src='fig/beam_basic.png'>"
   ]
  },
  {
   "cell_type": "markdown",
   "metadata": {},
   "source": [
    "<a id=\"eq\"></a>\n",
    "Its deflection from the equilibrium position is described by the deflection $u = u(x)$ which satisfies the boundary-value problem for the [Euler-Bernoulli equation](http://en.wikipedia.org/wiki/Euler%E2%80%93Bernoulli_beam_theory)\n",
    "$$ (EIu'')'' = 0 \\qquad \\qquad \\quad $$\n",
    "$$u(0)=0 \\qquad u'(0)=0 \\qquad \\qquad (1)$$\n",
    "$$u''(L)=0 \\qquad (EIu'')'(L)=P \\qquad \\qquad \\quad $$\n",
    "\n",
    "where $P$ is the force applied to the beam’s end, $E$ is the (constant) elastic modulus (a material’s property) and $I$ is the second moment of the area of the cross-section. If the cross-section is a rectangle with height $~H = H(x)$ and the width is $W$ then  $~I = I(x) = WH(x)^3/12$ (see more details in Wikipedia under the link above)."
   ]
  },
  {
   "cell_type": "markdown",
   "metadata": {},
   "source": [
    "To solve the problem we rewrite it as a system\n",
    "$$ u'' = v $$\n",
    "$$ (EIv)'' =0 $$\n",
    "$$u(0)=0 \\qquad u'(0)=0 \\qquad \\qquad (2)$$\n",
    "$$v(L)=0 \\qquad (EIv)'(L)=P \\qquad \\qquad \\quad $$"
   ]
  },
  {
   "cell_type": "markdown",
   "metadata": {},
   "source": [
    "$$\\require{cancel}$$\n",
    "\n",
    "### Problem 2 (40pt)\n",
    "\n",
    "Assume that $~I = I(x)$ is constant.\n",
    "\n",
    "* **(10pt)** Write a code that implements this finite difference problem solving the system (2)\n",
    "\n",
    "\n",
    "* **(10pt)** For the given parameters $E = 2.5\\, \\text{GPa}$, $H = 7\\,\\text{mm}$, $W = 3\\,\\text{mm}$, $L = 25\\, \\text{cm}$, $P = m \\cdot g, m = 200\\,\\text{g}, g = 9810\\,\\text{mm}/\\text{s}^2$, $h = L/20$ use your code to compute the solution $u_h$. What is the computed deflection of the right end, $u_h(L)$?\n",
    "\n",
    "<!-- NOT NEEDED: \n",
    "*  (Optional.) Upload the values $u(0), u(h), ... , u(L)$ at SI units (in meters in this case) to Canvas as a text file named *Your_Name.txt* with numbers separated by a newline. The first one who does it correctly will get a non-material bonus. (The details on uploading to Canvas may be changed later.)\n",
    "-->\n",
    "\n",
    "\n",
    "* **(10pt)** Find the solution $u$ in the analytic form. Compare $~u(L)~$ with $~u_h(L)~$ for $~h = L/25,L/50,L/100~$. As you decrease $~h~$ by a factor or 2, by what factor does the difference $~|u_h(L) − u(L)|~$ decrease?\n",
    "\n",
    "\n",
    "* **(10pt)** Compute $~\\sigma _{\\min}(A_h)~$ and $~\\sigma _{\\max}(A_h)~$ for $~h = L/25, L/50, L/100$, where $A_h$ is the matrix of the discretized linear system. As you decrease $~h~$ by a factor or 2, by what factor does $\\operatorname{cond}(A_h)$ increase? (Alternatively, compute $\\lambda _{\\min}(A_h)$ and $\\lambda _{\\max}(A_h)$ and comment on how $\\lambda _{\\max}(A_h)$/$\\lambda _{\\min}(A_h)$ increases.)\n",
    "\n",
    "* **(0pt / bonus question)** \n",
    "Can you find, approximately, for what $h$ your code computes the value $~|u_h(L)−u(L)|~$ most accurately? Explain why your code’s answers are worse if $~h~$ is less than this value and if $~h~$ is larger than this value."
   ]
  },
  {
   "cell_type": "markdown",
   "metadata": {},
   "source": [
    "### Problem 3 (30pt)\n",
    "\n",
    "Let all parameters be the same as in Problem 2 except for $H(x) = (3 − 2x/L)(2 + \\cos(18πx/L)) · 6\\, \\text{mm}$.\n",
    "\n",
    "* **(10pt)** Formulate the corresponding finite difference problem.\n",
    "\n",
    "\n",
    "* **(10pt)** Write the corresponding code.\n",
    "\n",
    "\n",
    "* **(10pt)** Assuming that the beam fractures at the point where the modulus of the quantity $\\sigma(x) = u''(x)H(x)$ is largest, find the point where the beam should fracture. Give details on how you compute it (e.g., what value of h you used)."
   ]
  },
  {
   "cell_type": "markdown",
   "metadata": {},
   "source": [
    "***"
   ]
  },
  {
   "cell_type": "code",
   "execution_count": null,
   "metadata": {
    "collapsed": true
   },
   "outputs": [],
   "source": []
  }
 ],
 "metadata": {
  "kernelspec": {
   "display_name": "Python 3 (ipykernel)",
   "language": "python",
   "name": "python3"
  },
  "language_info": {
   "codemirror_mode": {
    "name": "ipython",
    "version": 3
   },
   "file_extension": ".py",
   "mimetype": "text/x-python",
   "name": "python",
   "nbconvert_exporter": "python",
   "pygments_lexer": "ipython3",
   "version": "3.9.13"
  }
 },
 "nbformat": 4,
 "nbformat_minor": 1
}
