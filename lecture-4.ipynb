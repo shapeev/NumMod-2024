{
 "cells": [
  {
   "cell_type": "markdown",
   "metadata": {
    "slideshow": {
     "slide_type": "slide"
    }
   },
   "source": [
    "## Lecture 4: Finite Difference Method"
   ]
  },
  {
   "cell_type": "markdown",
   "metadata": {
    "slideshow": {
     "slide_type": "fragment"
    }
   },
   "source": [
    "### To be learned:\n",
    "\n",
    "* Approximation + Stability = Convergence\n",
    "* 2D elliptic equation (a.k.a. ${\\rm div}(k \\nabla u) = f$)\n",
    "* 2D diffusion equation (parabolic equation)\n",
    "    * explicit method\n",
    "    * implicit method\n",
    "* Application to Image Processing"
   ]
  },
  {
   "cell_type": "markdown",
   "metadata": {
    "slideshow": {
     "slide_type": "slide"
    }
   },
   "source": [
    "## Approximation + Stability = Convergence\n",
    "\n",
    "* Exact problem: $A u = f$\n",
    "* Approximate problem: $A _h u _h = f _h$ (in the case when $f _h$ = $f$)\n",
    "* Approximation: $\\|A _h u - f _h\\| = \\epsilon _h$\n",
    "    - we had earlier that $\\epsilon _h = O(h^2)$\n",
    "* Stability (hard to prove for nontrivial equations): $\\|A _h^{-1}\\| \\leq C$ as $h\\to 0$.\n",
    "\n",
    "* Then $\\|u _h - u\\| \\leq C \\|A _h u _h - A _h u\\| = C \\|f_h - A _h u\\| = C \\epsilon _h~~~$ ($=O(h^2)$ in our case)\n",
    "* **Exercise**: how did we do the first transition?\n",
    "\n",
    "* In general, when $f _h \\ne f$, you get\n",
    "$\\|u _h - u\\| \\leq C \\|f_h - A _h u\\| \\leq C \\|f - A _h u\\| + C \\|f_h - f\\|$"
   ]
  },
  {
   "cell_type": "markdown",
   "metadata": {
    "slideshow": {
     "slide_type": "slide"
    }
   },
   "source": [
    "### How does it work for a 1D ODE?\n",
    "\n",
    "* Exact problem:\n",
    "$\n",
    "u'' = f, \\quad u(0)=u(1) = 0\n",
    "$\n",
    "\n",
    "* Approximate problem:\n",
    "$$\n",
    "\\begin{align*}\n",
    "h^{-2} (u _h(x+h)-2u _h(x)+u _h(x-h)) &= f(x),\n",
    "\\\\\n",
    "u _h(0) = u _h(1) &= 0\n",
    "\\end{align*}\n",
    "$$\n",
    "on a grid with $h=1/N$\n",
    "\n",
    "* Approximation (we need to substitute $u$ into the approximate problem):\n",
    "$$\n",
    "\\begin{align*}\n",
    "& h^{-2} (u(x+h)-2u(x)+u(x-h)) - f(x)\n",
    "\\\\&= u''(x) - f(x) + O(h^2) = O(h^2)\n",
    "\\end{align*}\n",
    "$$\n",
    "(easy!)\n",
    "\n",
    "* Stability... gotta work hard..."
   ]
  },
  {
   "cell_type": "markdown",
   "metadata": {
    "slideshow": {
     "slide_type": "slide"
    }
   },
   "source": [
    "### Proving stability\n",
    "\n",
    "* $A _h$ is symmetric <small>(disagreers will be suspected of not doing the homework! <tt>:)</tt> )</small> \n",
    "* $\\|A _h^{-1}\\| \\leq C$ $\\Leftrightarrow$ $|\\lambda _\\min(A _h)| \\geq C^{-1}$, where $\\lambda _\\min$ is the eigenvalue with the smallest absolute value\n",
    "\n",
    "* **Exercise:** Do some math:\n",
    "    - **Prove** that $v^{(k)}(x) := \\sin(k \\pi x)$ is an eigenvector\n",
    "    - **Find** its eigenvalue $\\lambda^{(k)}$\n",
    "    - What is an easy way to **prove** that $v^{(k)}$ are linearly independent for $k=1,...,N-1$?\n",
    "    - Can you now **prove** that $\\|A _h^{-1}\\| \\leq C$?"
   ]
  },
  {
   "cell_type": "markdown",
   "metadata": {
    "slideshow": {
     "slide_type": "slide"
    }
   },
   "source": [
    "## 2D Elliptic Equation\n",
    "\n",
    "* A general diffusion equation is\n",
    "$$\n",
    "{\\rm div}(k\\, \\nabla u) = f\n",
    "$$\n",
    "* Here $k$ is typically a scalar **diffusion coefficient**\n",
    "* Sometimes $k$ is a matrix (**diffusion tensor**)"
   ]
  },
  {
   "cell_type": "markdown",
   "metadata": {
    "slideshow": {
     "slide_type": "slide"
    }
   },
   "source": [
    "## Discretization\n",
    "\n",
    "* If $k={\\rm const}$ then we know how to do it:\n",
    "$$\n",
    "{\\rm div}(k\\, \\nabla u) = k \\Delta u = k \\Delta _h u\n",
    "$$\n",
    "\n",
    "<img src=\"fig/stencil.png\">\n",
    "\n",
    "* In a tabular form we write it as\n",
    "$$\n",
    "k \\Delta _h \\sim \\frac{1}{h^2} \\begin{pmatrix} 0 & k & 0 \\\\ k & -4k & k \\\\ 0 & k & 0 \\end{pmatrix}\n",
    "$$\n",
    "\n",
    "* If $k\\ne{\\rm const}$ then we shall be more careful:\n",
    "$$\\scriptstyle\n",
    "{\\rm div}(k\\, \\nabla u)(x,y) = \\left(\\begin{array}{ccc} 0 & k(x,y-h/2) & 0 \\\\ k(x-h/2,y) & \\text{guess} & k(x+h/2,y) \\\\ 0 & k(x,y+h/2) & 0 \\end{array}\\right)\n",
    "$$\n",
    "\n",
    "* Let's see how it works in 1D:\n",
    "    - $k(x+h/2) u'(x+h/2) = k(x+h/2) (u(x+h)-u(x)) h^{-1} + O(h^2)$ (**Exercise**: prove)\n",
    "    - Likewise for $k(x-h/2) u'(x-h/2)$\n",
    "    - Hence\n",
    "    $$\\textstyle\n",
    "    \\frac{k(x+h/2) (u(x+h)-u(x)) - k(x-h/2) (u(x)-u(x-h))}{h^2} = (k u')'+ O(h^2)    \n",
    "    $$\n",
    "* **Exercise**: work it out in 2D\n",
    "* **Exercise**: attempt to work it out in 2D when $k=k(x)$ is a 2x2 matrix"
   ]
  },
  {
   "cell_type": "markdown",
   "metadata": {},
   "source": [
    "### Nicer notation\n",
    "\n",
    "* If we denote the FD operators $D _+ u(x) = u(x+h) - u(x)$ and $D _- u(x) = u(x) - u(x-h)$, then\n",
    "\n",
    "$$\n",
    "(k u')' (x) = D _- \\big(k(x+h/2) \\, D _+ u(x)\\big)\n",
    "$$"
   ]
  },
  {
   "cell_type": "markdown",
   "metadata": {
    "slideshow": {
     "slide_type": "slide"
    }
   },
   "source": [
    "## Time-dependent: 2D diffusion\n",
    "\n",
    "$$\n",
    "\\begin{align*}\n",
    "u _t &= k (u _{xx} + u _{yy})\\\\\n",
    "u| _{t=0} &= u _0 \\\\\n",
    "u| _{\\Gamma} &= 0\n",
    "\\end{align*}\n",
    "$$\n",
    "\n",
    "* Approximation is typically easy: just replace with discrete operators:\n",
    "\n",
    "$$\n",
    "\\begin{align*}\n",
    "\\frac{u _h(t+\\tau)-u _h(t)}{\\tau} &= k \\Delta _h u _h(t)\n",
    "\\qquad \\text{for }(x,y)\\in\\Omega\n",
    "\\\\\n",
    "u _h| _{t=0} &= u _0 \\\\\n",
    "u _h| _{\\Gamma} &= 0\n",
    "\\end{align*}\n",
    "$$\n",
    "\n",
    "* This is an **explicit** discretization: we don't need to invert $\\Delta_h$ (also called the \"forward difference scheme\")\n",
    "\n",
    "* **Exercise:** Order of approximation: $O(\\tau + h^2)$\n",
    "* Stability: again not easy"
   ]
  },
  {
   "cell_type": "markdown",
   "metadata": {
    "slideshow": {
     "slide_type": "slide"
    }
   },
   "source": [
    "### Stability\n",
    "\n",
    "* We want the result in the form $\\|u _h\\| \\leq C \\|u _0\\|$\n",
    "* We know that $\\|u(t)\\|$ decreases in time (energy diffuses $\\Rightarrow$ not growing)\n",
    "* Hence we require $\\|u _h(t+\\tau)\\| \\leq \\|u _h(t)\\|$\n",
    "* In other words, eigenvalues of $I + \\tau k\\Delta _h$ are between $-1$ and $1$\n",
    "* **Exercise:** derive the stability condition on $\\tau$ (and $h$ and $k$)"
   ]
  },
  {
   "cell_type": "markdown",
   "metadata": {
    "slideshow": {
     "slide_type": "slide"
    }
   },
   "source": [
    "### So that you know: Implicit discretization\n",
    "$$\n",
    "\\begin{align*}\n",
    "\\frac{u _h(t+\\tau)-u _h(t)}{\\tau} &= k \\frac{\\Delta _h u _h(t+\\tau) + \\Delta _h u _h(t)}{2}\n",
    "\\qquad \\text{for }(x,y)\\in\\Omega\n",
    "\\\\\n",
    "u _h| _{t=0} &= u _0 \\\\\n",
    "u _h| _{\\Gamma} &= 0\n",
    "\\end{align*}\n",
    "$$\n",
    "\n",
    "* This is called the \"Crank-Nicolson\" scheme\n",
    "\n",
    "* Here we do need to invert $\\Delta _h$:\n",
    "$$\n",
    "u _h(t+\\tau) = \\big(I - {\\textstyle \\frac{1}{2}} \\tau \\Delta _h\\big)^{-1} \\big(I + {\\textstyle \\frac{1}{2}} \\tau \\Delta _h\\big) u _h(t)\n",
    "$$\n",
    "\n",
    "* **Exercise**: approximation error is $O(\\tau^2 + h^2)$\n",
    "\n",
    "* **Exercise**: stability is unconditional (i.e., always stable!)\n",
    "\n",
    "* If we can efficiently invert $(I - \\frac{1}{2}  \\tau \\Delta _h)^{-1}$ then it is better than the explicit!"
   ]
  },
  {
   "cell_type": "markdown",
   "metadata": {
    "slideshow": {
     "slide_type": "slide"
    }
   },
   "source": [
    "## Cool application: Image processing\n",
    "\n",
    "* Let's solve\n",
    "$$\n",
    "\\begin{align*}\n",
    "\\frac{u _h(t+\\tau)-u _h(t)}{\\tau} &= k \\Delta _h u _h(t)\n",
    "\\qquad \\text{for }(x,y)\\in\\Omega\n",
    "\\\\\n",
    "u _h| _{t=0} &= u _0 \\\\\n",
    "u _h| _{\\Gamma} &= u _0| _{\\Gamma}\n",
    "\\end{align*}\n",
    "$$\n",
    "Here $u _0(x,y)$ is the image we want to process\n",
    "<img src=\"fig/photo_noisy.png\">"
   ]
  },
  {
   "cell_type": "markdown",
   "metadata": {},
   "source": []
  },
  {
   "cell_type": "code",
   "execution_count": 1,
   "metadata": {
    "slideshow": {
     "slide_type": "slide"
    }
   },
   "outputs": [
    {
     "name": "stderr",
     "output_type": "stream",
     "text": [
      "c:\\users\\hp\\anaconda3\\lib\\site-packages\\IPython\\html.py:12: ShimWarning: The `IPython.html` package has been deprecated since IPython 4.0. You should import from `notebook` instead. `IPython.html.widgets` has moved to `ipywidgets`.\n",
      "  warn(\"The `IPython.html` package has been deprecated since IPython 4.0. \"\n"
     ]
    },
    {
     "data": {
      "application/vnd.jupyter.widget-view+json": {
       "model_id": "46eb93e9aead4226810f39375584ae7e",
       "version_major": 2,
       "version_minor": 0
      },
      "text/plain": [
       "interactive(children=(IntSlider(value=1, description='i', max=2), Output()), _dom_classes=('widget-interact',)…"
      ]
     },
     "metadata": {},
     "output_type": "display_data"
    },
    {
     "data": {
      "text/plain": [
       "<function __main__.set_cursor(i)>"
      ]
     },
     "execution_count": 1,
     "metadata": {},
     "output_type": "execute_result"
    }
   ],
   "source": [
    "from IPython.html.widgets import interact\n",
    "from PIL import Image\n",
    "import numba as nb\n",
    "import numpy as np\n",
    "import scipy as sp\n",
    "import matplotlib.pyplot as plt\n",
    "img=Image.open('fig/photo.png')\n",
    "imarray_orig=np.array(img)\n",
    "img=Image.open('fig/photo_noisy.png')\n",
    "imarray=np.array(img)\n",
    "imarray_noisy=imarray;\n",
    "\n",
    "import PIL\n",
    "from IPython.display import display, Image\n",
    "from io import BytesIO\n",
    "\n",
    "def display_img_array(ima):\n",
    "    im = PIL.Image.fromarray(ima)\n",
    "    bio = BytesIO()\n",
    "    im.save(bio, format='png')\n",
    "    display(Image(bio.getvalue(), format='png', retina=True))\n",
    "\n",
    "import pyamg\n",
    "A = sp.sparse.csr_matrix(pyamg.gallery.laplacian.poisson(imarray.shape))\n",
    "\n",
    "imarray = imarray.astype(float)\n",
    "vec = imarray.reshape(-1,1);\n",
    "for iter in range(1, 20):\n",
    "    vec += -0.1*A*vec;\n",
    "imarray = vec.reshape(imarray.shape);\n",
    "imarray_blur = imarray.astype(dtype=\"uint8\")\n",
    "\n",
    "def set_cursor(i):\n",
    "    if i==0:\n",
    "        display_img_array(imarray_orig)\n",
    "    elif i==1:\n",
    "        display_img_array(imarray_noisy.astype(dtype=\"uint8\"))\n",
    "    else:\n",
    "        display_img_array(imarray_blur)\n",
    "\n",
    "interact(set_cursor, i=(0, 2, 1))\n",
    "\n",
    "#display_img_array(imarray_orig)\n",
    "#display_img_array(imarray_noisy.astype(dtype=\"uint8\"))\n",
    "#display_img_array(imarray_blur)"
   ]
  },
  {
   "cell_type": "code",
   "execution_count": 2,
   "metadata": {
    "run_control": {
     "breakpoint": false
    }
   },
   "outputs": [
    {
     "data": {
      "text/plain": [
       "(625, 500)"
      ]
     },
     "execution_count": 2,
     "metadata": {},
     "output_type": "execute_result"
    }
   ],
   "source": [
    "imarray.shape"
   ]
  },
  {
   "cell_type": "markdown",
   "metadata": {
    "slideshow": {
     "slide_type": "slide"
    }
   },
   "source": [
    "### \"Anisotropic\" diffusion\n",
    "\n",
    "* Let's solve\n",
    "$$\n",
    "\\begin{align*}\n",
    "u' &= {\\rm div} (k \\nabla u)\n",
    "\\qquad \\text{for }(x,y)\\in\\Omega\n",
    "\\\\\n",
    "u| _{t=0} &= u _0 \\\\\n",
    "u| _{\\Gamma} &= u _0| _{\\Gamma}\n",
    "\\end{align*},\n",
    "$$\n",
    "where $k=k(\\nabla u) = 1/\\sqrt{1+|\\nabla u|^2}$ ($|v|$ is the length of $v$)\n",
    "\n",
    "* We use the explicit finite difference method:\n",
    "\n",
    "* We discretize it with $\\tau=0.25$ below:"
   ]
  },
  {
   "cell_type": "code",
   "execution_count": 3,
   "metadata": {
    "scrolled": false,
    "slideshow": {
     "slide_type": "slide"
    }
   },
   "outputs": [
    {
     "data": {
      "application/vnd.jupyter.widget-view+json": {
       "model_id": "66648df6adb24be6a47a21c5b5498fe0",
       "version_major": 2,
       "version_minor": 0
      },
      "text/plain": [
       "interactive(children=(IntSlider(value=4, description='i', max=9), Output()), _dom_classes=('widget-interact',)…"
      ]
     },
     "metadata": {},
     "output_type": "display_data"
    },
    {
     "data": {
      "text/plain": [
       "<function __main__.set_cursor(i)>"
      ]
     },
     "execution_count": 3,
     "metadata": {},
     "output_type": "execute_result"
    }
   ],
   "source": [
    "imarray = imarray_noisy.astype(float)\n",
    "\n",
    "@nb.jit\n",
    "def time_step(imarray):\n",
    "    new_imarray = imarray;\n",
    "    for i in range(1,imarray.shape[0]-2):\n",
    "        for j in range(1,imarray.shape[1]-2):\n",
    "            dx1 = (imarray[i+1,j]-imarray[i,j]);\n",
    "            dx0 = (imarray[i,j]-imarray[i-1,j]);\n",
    "            dx = (dx1+dx0)/2;\n",
    "            dy1 = (imarray[i,j+1]-imarray[i,j]);\n",
    "            dy0 = (imarray[i,j]-imarray[i,j-1]);\n",
    "            dy = (dy0+dy1)/2;\n",
    "            new_imarray[i,j] += 0.25*(dx1/np.sqrt(1+dx1*dx1+dy*dy)-dx0/np.sqrt(1+dx0*dx0+dy*dy));\n",
    "            new_imarray[i,j] += 0.25*(dy1/np.sqrt(1+dy1*dy1+dx*dx)-dy0/np.sqrt(1+dy0*dy0+dx*dx));\n",
    "    imarray = new_imarray;\n",
    "\n",
    "%matplotlib inline\n",
    "import matplotlib.pyplot as plt\n",
    "import matplotlib.animation as animation\n",
    "\n",
    "num_steps = 20\n",
    "num_images = 10\n",
    "imarray_denoise = []\n",
    "for outer_iter in range(num_images): # how many images will be produced\n",
    "    for iter in range(num_steps): # how many time steps to do for each image\n",
    "        time_step(imarray)\n",
    "    imarray_denoise.append(imarray.astype(dtype=\"uint8\"))\n",
    "        #plt.imshow(imarray_denoise)\n",
    "        #display_img_array(imarray_denoise)\n",
    "\n",
    "def set_cursor(i):\n",
    "    display_img_array(imarray_denoise[i])\n",
    "    #display_img_array(imarray_orig)\n",
    "\n",
    "interact(set_cursor, i=(0, num_images-1, 1))"
   ]
  },
  {
   "cell_type": "markdown",
   "metadata": {
    "slideshow": {
     "slide_type": "slide"
    }
   },
   "source": [
    "## To install the JSAnimation library\n",
    "\n",
    "### (not working as of 2023)\n",
    "\n",
    "In order to view animation of noise removal you need to install JSAnimation library. The easiset way to do this is to run from command line:\n",
    "\n",
    "```\n",
    "conda install --channel https://conda.binstar.org/IOOS jsanimation\n",
    "```\n",
    "\n",
    "Win-64 users:\n",
    "```\n",
    "conda install --channel https://conda.binstar.org/melund JSAnimation\n",
    "```\n",
    "\n",
    "You can explore all available packages of that library by running:\n",
    "\n",
    "```\n",
    "binstar search -t conda jsanimation\n",
    "```"
   ]
  },
  {
   "cell_type": "code",
   "execution_count": 4,
   "metadata": {
    "slideshow": {
     "slide_type": "slide"
    }
   },
   "outputs": [
    {
     "ename": "TypeError",
     "evalue": "setup() got an unexpected keyword argument 'clear_temp'",
     "output_type": "error",
     "traceback": [
      "\u001b[1;31m---------------------------------------------------------------------------\u001b[0m",
      "\u001b[1;31mTypeError\u001b[0m                                 Traceback (most recent call last)",
      "\u001b[1;32mc:\\users\\hp\\anaconda3\\lib\\site-packages\\IPython\\core\\formatters.py\u001b[0m in \u001b[0;36m__call__\u001b[1;34m(self, obj)\u001b[0m\n\u001b[0;32m    343\u001b[0m             \u001b[0mmethod\u001b[0m \u001b[1;33m=\u001b[0m \u001b[0mget_real_method\u001b[0m\u001b[1;33m(\u001b[0m\u001b[0mobj\u001b[0m\u001b[1;33m,\u001b[0m \u001b[0mself\u001b[0m\u001b[1;33m.\u001b[0m\u001b[0mprint_method\u001b[0m\u001b[1;33m)\u001b[0m\u001b[1;33m\u001b[0m\u001b[1;33m\u001b[0m\u001b[0m\n\u001b[0;32m    344\u001b[0m             \u001b[1;32mif\u001b[0m \u001b[0mmethod\u001b[0m \u001b[1;32mis\u001b[0m \u001b[1;32mnot\u001b[0m \u001b[1;32mNone\u001b[0m\u001b[1;33m:\u001b[0m\u001b[1;33m\u001b[0m\u001b[1;33m\u001b[0m\u001b[0m\n\u001b[1;32m--> 345\u001b[1;33m                 \u001b[1;32mreturn\u001b[0m \u001b[0mmethod\u001b[0m\u001b[1;33m(\u001b[0m\u001b[1;33m)\u001b[0m\u001b[1;33m\u001b[0m\u001b[1;33m\u001b[0m\u001b[0m\n\u001b[0m\u001b[0;32m    346\u001b[0m             \u001b[1;32mreturn\u001b[0m \u001b[1;32mNone\u001b[0m\u001b[1;33m\u001b[0m\u001b[1;33m\u001b[0m\u001b[0m\n\u001b[0;32m    347\u001b[0m         \u001b[1;32melse\u001b[0m\u001b[1;33m:\u001b[0m\u001b[1;33m\u001b[0m\u001b[1;33m\u001b[0m\u001b[0m\n",
      "\u001b[1;32mc:\\users\\hp\\anaconda3\\lib\\site-packages\\JSAnimation\\IPython_display.py\u001b[0m in \u001b[0;36manim_to_html\u001b[1;34m(anim, fps, embed_frames, default_mode)\u001b[0m\n\u001b[0;32m     72\u001b[0m         \u001b[1;31m#with tempfile.NamedTemporaryFile(suffix='.html') as f:\u001b[0m\u001b[1;33m\u001b[0m\u001b[1;33m\u001b[0m\u001b[0m\n\u001b[0;32m     73\u001b[0m         \u001b[1;32mwith\u001b[0m \u001b[0m_NameOnlyTemporaryFile\u001b[0m\u001b[1;33m(\u001b[0m\u001b[0msuffix\u001b[0m\u001b[1;33m=\u001b[0m\u001b[1;34m'.html'\u001b[0m\u001b[1;33m)\u001b[0m \u001b[1;32mas\u001b[0m \u001b[0mf\u001b[0m\u001b[1;33m:\u001b[0m\u001b[1;33m\u001b[0m\u001b[1;33m\u001b[0m\u001b[0m\n\u001b[1;32m---> 74\u001b[1;33m             anim.save(f.name,  writer=HTMLWriter(fps=fps,\n\u001b[0m\u001b[0;32m     75\u001b[0m                                                  \u001b[0membed_frames\u001b[0m\u001b[1;33m=\u001b[0m\u001b[0membed_frames\u001b[0m\u001b[1;33m,\u001b[0m\u001b[1;33m\u001b[0m\u001b[1;33m\u001b[0m\u001b[0m\n\u001b[0;32m     76\u001b[0m                                                  default_mode=default_mode))\n",
      "\u001b[1;32mc:\\users\\hp\\anaconda3\\lib\\site-packages\\matplotlib\\animation.py\u001b[0m in \u001b[0;36msave\u001b[1;34m(self, filename, writer, fps, dpi, codec, bitrate, extra_args, metadata, extra_anim, savefig_kwargs, progress_callback)\u001b[0m\n\u001b[0;32m   1069\u001b[0m         \u001b[1;31m# callback a no-op; canvas.manager = None prevents resizing the GUI\u001b[0m\u001b[1;33m\u001b[0m\u001b[1;33m\u001b[0m\u001b[0m\n\u001b[0;32m   1070\u001b[0m         \u001b[1;31m# widget (both are likewise done in savefig()).\u001b[0m\u001b[1;33m\u001b[0m\u001b[1;33m\u001b[0m\u001b[0m\n\u001b[1;32m-> 1071\u001b[1;33m         \u001b[1;32mwith\u001b[0m \u001b[0mmpl\u001b[0m\u001b[1;33m.\u001b[0m\u001b[0mrc_context\u001b[0m\u001b[1;33m(\u001b[0m\u001b[1;33m{\u001b[0m\u001b[1;34m'savefig.bbox'\u001b[0m\u001b[1;33m:\u001b[0m \u001b[1;32mNone\u001b[0m\u001b[1;33m}\u001b[0m\u001b[1;33m)\u001b[0m\u001b[1;33m,\u001b[0m\u001b[0;31m \u001b[0m\u001b[0;31m\\\u001b[0m\u001b[1;33m\u001b[0m\u001b[1;33m\u001b[0m\u001b[0m\n\u001b[0m\u001b[0;32m   1072\u001b[0m              \u001b[0mwriter\u001b[0m\u001b[1;33m.\u001b[0m\u001b[0msaving\u001b[0m\u001b[1;33m(\u001b[0m\u001b[0mself\u001b[0m\u001b[1;33m.\u001b[0m\u001b[0m_fig\u001b[0m\u001b[1;33m,\u001b[0m \u001b[0mfilename\u001b[0m\u001b[1;33m,\u001b[0m \u001b[0mdpi\u001b[0m\u001b[1;33m)\u001b[0m\u001b[1;33m,\u001b[0m\u001b[0;31m \u001b[0m\u001b[0;31m\\\u001b[0m\u001b[1;33m\u001b[0m\u001b[1;33m\u001b[0m\u001b[0m\n\u001b[0;32m   1073\u001b[0m              cbook._setattr_cm(self._fig.canvas,\n",
      "\u001b[1;32m~\\anaconda3\\lib\\contextlib.py\u001b[0m in \u001b[0;36m__enter__\u001b[1;34m(self)\u001b[0m\n\u001b[0;32m    117\u001b[0m         \u001b[1;32mdel\u001b[0m \u001b[0mself\u001b[0m\u001b[1;33m.\u001b[0m\u001b[0margs\u001b[0m\u001b[1;33m,\u001b[0m \u001b[0mself\u001b[0m\u001b[1;33m.\u001b[0m\u001b[0mkwds\u001b[0m\u001b[1;33m,\u001b[0m \u001b[0mself\u001b[0m\u001b[1;33m.\u001b[0m\u001b[0mfunc\u001b[0m\u001b[1;33m\u001b[0m\u001b[1;33m\u001b[0m\u001b[0m\n\u001b[0;32m    118\u001b[0m         \u001b[1;32mtry\u001b[0m\u001b[1;33m:\u001b[0m\u001b[1;33m\u001b[0m\u001b[1;33m\u001b[0m\u001b[0m\n\u001b[1;32m--> 119\u001b[1;33m             \u001b[1;32mreturn\u001b[0m \u001b[0mnext\u001b[0m\u001b[1;33m(\u001b[0m\u001b[0mself\u001b[0m\u001b[1;33m.\u001b[0m\u001b[0mgen\u001b[0m\u001b[1;33m)\u001b[0m\u001b[1;33m\u001b[0m\u001b[1;33m\u001b[0m\u001b[0m\n\u001b[0m\u001b[0;32m    120\u001b[0m         \u001b[1;32mexcept\u001b[0m \u001b[0mStopIteration\u001b[0m\u001b[1;33m:\u001b[0m\u001b[1;33m\u001b[0m\u001b[1;33m\u001b[0m\u001b[0m\n\u001b[0;32m    121\u001b[0m             \u001b[1;32mraise\u001b[0m \u001b[0mRuntimeError\u001b[0m\u001b[1;33m(\u001b[0m\u001b[1;34m\"generator didn't yield\"\u001b[0m\u001b[1;33m)\u001b[0m \u001b[1;32mfrom\u001b[0m \u001b[1;32mNone\u001b[0m\u001b[1;33m\u001b[0m\u001b[1;33m\u001b[0m\u001b[0m\n",
      "\u001b[1;32mc:\\users\\hp\\anaconda3\\lib\\site-packages\\matplotlib\\animation.py\u001b[0m in \u001b[0;36msaving\u001b[1;34m(self, fig, outfile, dpi, *args, **kwargs)\u001b[0m\n\u001b[0;32m    230\u001b[0m         \"\"\"\n\u001b[0;32m    231\u001b[0m         \u001b[1;31m# This particular sequence is what contextlib.contextmanager wants\u001b[0m\u001b[1;33m\u001b[0m\u001b[1;33m\u001b[0m\u001b[0m\n\u001b[1;32m--> 232\u001b[1;33m         \u001b[0mself\u001b[0m\u001b[1;33m.\u001b[0m\u001b[0msetup\u001b[0m\u001b[1;33m(\u001b[0m\u001b[0mfig\u001b[0m\u001b[1;33m,\u001b[0m \u001b[0moutfile\u001b[0m\u001b[1;33m,\u001b[0m \u001b[0mdpi\u001b[0m\u001b[1;33m,\u001b[0m \u001b[1;33m*\u001b[0m\u001b[0margs\u001b[0m\u001b[1;33m,\u001b[0m \u001b[1;33m**\u001b[0m\u001b[0mkwargs\u001b[0m\u001b[1;33m)\u001b[0m\u001b[1;33m\u001b[0m\u001b[1;33m\u001b[0m\u001b[0m\n\u001b[0m\u001b[0;32m    233\u001b[0m         \u001b[1;32mtry\u001b[0m\u001b[1;33m:\u001b[0m\u001b[1;33m\u001b[0m\u001b[1;33m\u001b[0m\u001b[0m\n\u001b[0;32m    234\u001b[0m             \u001b[1;32myield\u001b[0m \u001b[0mself\u001b[0m\u001b[1;33m\u001b[0m\u001b[1;33m\u001b[0m\u001b[0m\n",
      "\u001b[1;32mc:\\users\\hp\\anaconda3\\lib\\site-packages\\JSAnimation\\html_writer.py\u001b[0m in \u001b[0;36msetup\u001b[1;34m(self, fig, outfile, dpi, frame_dir)\u001b[0m\n\u001b[0;32m    279\u001b[0m             \u001b[0mframe_prefix\u001b[0m \u001b[1;33m=\u001b[0m \u001b[1;32mNone\u001b[0m\u001b[1;33m\u001b[0m\u001b[1;33m\u001b[0m\u001b[0m\n\u001b[0;32m    280\u001b[0m \u001b[1;33m\u001b[0m\u001b[0m\n\u001b[1;32m--> 281\u001b[1;33m         super(HTMLWriter, self).setup(fig, outfile, dpi,\n\u001b[0m\u001b[0;32m    282\u001b[0m                                       frame_prefix, clear_temp=False)\n\u001b[0;32m    283\u001b[0m \u001b[1;33m\u001b[0m\u001b[0m\n",
      "\u001b[1;31mTypeError\u001b[0m: setup() got an unexpected keyword argument 'clear_temp'"
     ]
    },
    {
     "data": {
      "text/plain": [
       "<matplotlib.animation.FuncAnimation at 0x11d49afcb80>"
      ]
     },
     "execution_count": 4,
     "metadata": {},
     "output_type": "execute_result"
    }
   ],
   "source": [
    "from JSAnimation import IPython_display\n",
    "\n",
    "fig = plt.figure(figsize=(12, 9))\n",
    "plt.axis('off')\n",
    "im = plt.imshow(imarray_denoise[0], cmap='gray')\n",
    "\n",
    "def animate(i):\n",
    "    im.set_data(imarray_denoise[i])\n",
    "    return [im]\n",
    "\n",
    "def init():\n",
    "    im.set_data(imarray_denoise[0])\n",
    "    return im\n",
    "\n",
    "animation.FuncAnimation(fig, animate, frames=num_images, \n",
    "                        init_func=init,interval=300, blit=False)"
   ]
  },
  {
   "cell_type": "markdown",
   "metadata": {
    "slideshow": {
     "slide_type": "slide"
    }
   },
   "source": [
    "## Advantages of the Finite Difference Method:\n",
    "\n",
    "* Simple, easy to code\n",
    "\n",
    "## Disadvantages of the Finite Difference Method:\n",
    "\n",
    "* Works nicely only in simple domains (line segment, square)\n",
    "    * Typical applications:\n",
    "    * Finance: p(t,x): probability density that a stock costs $x$ at time $t$; domain: $x _{\\min} \\leq x \\leq x _{\\max}$\n",
    "    * Image processing: domain is a rectangle\n",
    "    * Problems in infinite domains, after we truncate the domain to a square (e.g., in quantum mechanic calculations)\n",
    "* Adaptivity (non-uniform grids) is hard\n",
    "* Stability is not granted\n",
    "* Some desired properties (of the original problem) is hard to achieve, e.g., ${\\rm div} _h \\nabla _h = \\Delta _h$, $\\nabla _h {\\rm div} _h = 0$, etc."
   ]
  },
  {
   "cell_type": "markdown",
   "metadata": {
    "slideshow": {
     "slide_type": "slide"
    }
   },
   "source": [
    "## Finite Volume Method\n",
    "\n",
    "Idea:\n",
    "\n",
    "* Start with a physical law\n",
    "${\\rm div}(k\\nabla u) = f$\n",
    "* Divide onto cells $\\Omega = \\bigcup _i \\Omega _i$\n",
    "* (Idea: We want to assume that $u$ is constant in each cell. Then we just need one equation per cell (to find that constant). But we are not going to assume this yet.)\n",
    "* Integrate the equation over the cell:\n",
    "$$\n",
    "\\int _{\\Omega _i} {\\rm div}(k\\nabla u)\n",
    "= \\int _{\\partial\\Omega _i} k\\nabla u\\cdot n\n",
    "= \\int _{\\Omega _i} f\n",
    "$$\n",
    "* $k\\nabla u$ has a clear meaning here: it is the **flux** through $\\partial\\Omega _i$.\n",
    "* It hence can be approximated by finite differences.\n",
    "* The discretization will hence look like\n",
    "$$\n",
    "\\begin{align*}\n",
    "\\sum _{\\Omega _j {\\rm \\ adj.to\\ }\\Omega _i} \\Big(\n",
    "&\n",
    "{\\rm Area}(\\Omega _i\\cap\\Omega _j)\n",
    "\\\\&\n",
    "k \\frac{\\big((u| _{\\Omega _j})-(u| _{\\Omega _i})\\big)}{\\text{distance between centers of $\\Omega _i$ and $\\Omega _j$}}\n",
    "\\Big)\n",
    "\\end{align*} = \n",
    "$$\n",
    "$$\n",
    "=\\int _{\\Omega _i} f\n",
    "$$\n"
   ]
  },
  {
   "cell_type": "markdown",
   "metadata": {
    "slideshow": {
     "slide_type": "slide"
    }
   },
   "source": [
    "##### Questions?\n"
   ]
  }
 ],
 "metadata": {
  "celltoolbar": "Slideshow",
  "kernelspec": {
   "display_name": "Python 3 (ipykernel)",
   "language": "python",
   "name": "python3"
  },
  "language_info": {
   "codemirror_mode": {
    "name": "ipython",
    "version": 3
   },
   "file_extension": ".py",
   "mimetype": "text/x-python",
   "name": "python",
   "nbconvert_exporter": "python",
   "pygments_lexer": "ipython3",
   "version": "3.9.13"
  }
 },
 "nbformat": 4,
 "nbformat_minor": 1
}
