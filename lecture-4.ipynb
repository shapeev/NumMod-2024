{
 "cells": [
  {
   "cell_type": "markdown",
   "metadata": {
    "slideshow": {
     "slide_type": "slide"
    }
   },
   "source": [
    "## Lecture 4: Finite Difference Method"
   ]
  },
  {
   "cell_type": "markdown",
   "metadata": {
    "slideshow": {
     "slide_type": "fragment"
    }
   },
   "source": [
    "### To be learned:\n",
    "\n",
    "* Approximation + Stability = Convergence\n",
    "* 2D elliptic equation (a.k.a. ${\\rm div}(k \\nabla u) = f$)\n",
    "* 2D diffusion equation (parabolic equation)\n",
    "    * explicit method\n",
    "    * implicit method\n",
    "* Application to Image Processing"
   ]
  },
  {
   "cell_type": "markdown",
   "metadata": {
    "slideshow": {
     "slide_type": "slide"
    }
   },
   "source": [
    "## Approximation + Stability = Convergence\n",
    "\n",
    "* Exact problem: $A u = f$\n",
    "* Approximate problem: $A _h u _h = f _h$ (in the case when $f _h$ = $f$)\n",
    "* Approximation: $\\|A _h u - f _h\\| = \\epsilon _h$\n",
    "    - we had earlier that $\\epsilon _h = O(h^2)$\n",
    "* Stability (hard to prove for nontrivial equations): $\\|A _h^{-1}\\| \\leq C$ as $h\\to 0$.\n",
    "\n",
    "* Then $\\|u _h - u\\| \\leq C \\|A _h u _h - A _h u\\| = C \\|f_h - A _h u\\| = C \\epsilon _h~~~$ ($=O(h^2)$ in our case)\n",
    "* **Exercise**: how did we do the first transition?\n",
    "\n",
    "* In general, when $f _h \\ne f$, you get\n",
    "$\\|u _h - u\\| \\leq C \\|f_h - A _h u\\| \\leq C \\|f - A _h u\\| + C \\|f_h - f\\|$"
   ]
  },
  {
   "cell_type": "markdown",
   "metadata": {
    "slideshow": {
     "slide_type": "slide"
    }
   },
   "source": [
    "### How does it work for a 1D ODE?\n",
    "\n",
    "* Exact problem:\n",
    "$\n",
    "u'' = f, \\quad u(0)=u(1) = 0\n",
    "$\n",
    "\n",
    "* Approximate problem:\n",
    "$$\n",
    "\\begin{align*}\n",
    "h^{-2} (u _h(x+h)-2u _h(x)+u _h(x-h)) &= f(x),\n",
    "\\\\\n",
    "u _h(0) = u _h(1) &= 0\n",
    "\\end{align*}\n",
    "$$\n",
    "on a grid with $h=1/N$\n",
    "\n",
    "* Approximation (we need to substitute $u$ into the approximate problem):\n",
    "$$\n",
    "\\begin{align*}\n",
    "& h^{-2} (u(x+h)-2u(x)+u(x-h)) - f(x)\n",
    "\\\\&= u''(x) - f(x) + O(h^2) = O(h^2)\n",
    "\\end{align*}\n",
    "$$\n",
    "(easy!)\n",
    "\n",
    "* Stability... gotta work hard..."
   ]
  },
  {
   "cell_type": "markdown",
   "metadata": {
    "slideshow": {
     "slide_type": "slide"
    }
   },
   "source": [
    "### Proving stability\n",
    "\n",
    "* $A _h$ is symmetric <small>(disagreers will be suspected of not doing the homework! <tt>:)</tt> )</small> \n",
    "* $\\|A _h^{-1}\\| \\leq C$ $\\Leftrightarrow$ $|\\lambda _\\min(A _h)| \\geq C^{-1}$, where $\\lambda _\\min$ is the eigenvalue with the smallest absolute value\n",
    "\n",
    "* **Exercise:** Do some math:\n",
    "    - **Prove** that $v^{(k)}(x) := \\sin(k \\pi x)$ is an eigenvector\n",
    "    - **Find** its eigenvalue $\\lambda^{(k)}$\n",
    "    - What is an easy way to **prove** that $v^{(k)}$ are linearly independent for $k=1,...,N-1$?\n",
    "    - Can you now **prove** that $\\|A _h^{-1}\\| \\leq C$?"
   ]
  },
  {
   "cell_type": "markdown",
   "metadata": {
    "slideshow": {
     "slide_type": "slide"
    }
   },
   "source": [
    "## 2D Elliptic Equation\n",
    "\n",
    "* A general diffusion equation is\n",
    "$$\n",
    "{\\rm div}(k\\, \\nabla u) = f\n",
    "$$\n",
    "* Here $k$ is typically a scalar **diffusion coefficient**\n",
    "* Sometimes $k$ is a matrix (**diffusion tensor**)"
   ]
  },
  {
   "cell_type": "markdown",
   "metadata": {
    "slideshow": {
     "slide_type": "slide"
    }
   },
   "source": [
    "## Discretization\n",
    "\n",
    "* If $k={\\rm const}$ then we know how to do it:\n",
    "$$\n",
    "{\\rm div}(k\\, \\nabla u) = k \\Delta u = k \\Delta _h u\n",
    "$$\n",
    "\n",
    "<img src=\"fig/stencil.png\">\n",
    "\n",
    "* In a tabular form we write it as\n",
    "$$\n",
    "k \\Delta _h \\sim \\frac{1}{h^2} \\begin{pmatrix} 0 & k & 0 \\\\ k & -4k & k \\\\ 0 & k & 0 \\end{pmatrix}\n",
    "$$\n",
    "\n",
    "* If $k\\ne{\\rm const}$ then we shall be more careful:\n",
    "$$\\scriptstyle\n",
    "{\\rm div}(k\\, \\nabla u)(x,y) = \\left(\\begin{array}{ccc} 0 & k(x,y-h/2) & 0 \\\\ k(x-h/2,y) & \\text{guess} & k(x+h/2,y) \\\\ 0 & k(x,y+h/2) & 0 \\end{array}\\right)\n",
    "$$\n",
    "\n",
    "* Let's see how it works in 1D:\n",
    "    - $k(x+h/2) u'(x+h/2) = k(x+h/2) (u(x+h)-u(x)) h^{-1} + O(h^2)$ (**Exercise**: prove)\n",
    "    - Likewise for $k(x-h/2) u'(x-h/2)$\n",
    "    - Hence\n",
    "    $$\\textstyle\n",
    "    \\frac{k(x+h/2) (u(x+h)-u(x)) - k(x-h/2) (u(x)-u(x-h))}{h^2} = (k u')'+ O(h^2)    \n",
    "    $$\n",
    "* **Exercise**: work it out in 2D\n",
    "* **Exercise**: attempt to work it out in 2D when $k=k(x)$ is a 2x2 matrix"
   ]
  },
  {
   "cell_type": "markdown",
   "metadata": {},
   "source": [
    "### Nicer notation\n",
    "\n",
    "* If we denote the FD operators $D _+ u(x) = u(x+h) - u(x)$ and $D _- u(x) = u(x) - u(x-h)$, then\n",
    "\n",
    "$$\n",
    "(k u')' (x) = D _- \\big(k(x+h/2) \\, D _+ u(x)\\big)\n",
    "$$"
   ]
  },
  {
   "cell_type": "markdown",
   "metadata": {
    "slideshow": {
     "slide_type": "slide"
    }
   },
   "source": [
    "## Time-dependent: 2D diffusion\n",
    "\n",
    "$$\n",
    "\\begin{align*}\n",
    "u _t &= k (u _{xx} + u _{yy})\\\\\n",
    "u| _{t=0} &= u _0 \\\\\n",
    "u| _{\\Gamma} &= 0\n",
    "\\end{align*}\n",
    "$$\n",
    "\n",
    "* Approximation is typically easy: just replace with discrete operators:\n",
    "\n",
    "$$\n",
    "\\begin{align*}\n",
    "\\frac{u _h(t+\\tau)-u _h(t)}{\\tau} &= k \\Delta _h u _h(t)\n",
    "\\qquad \\text{for }(x,y)\\in\\Omega\n",
    "\\\\\n",
    "u _h| _{t=0} &= u _0 \\\\\n",
    "u _h| _{\\Gamma} &= 0\n",
    "\\end{align*}\n",
    "$$\n",
    "\n",
    "* This is an **explicit** discretization: we don't need to invert $\\Delta_h$ (also called the \"forward difference scheme\")\n",
    "\n",
    "* **Exercise:** Order of approximation: $O(\\tau + h^2)$\n",
    "* Stability: again not easy"
   ]
  },
  {
   "cell_type": "markdown",
   "metadata": {
    "slideshow": {
     "slide_type": "slide"
    }
   },
   "source": [
    "### Stability\n",
    "\n",
    "* We want the result in the form $\\|u _h\\| \\leq C \\|u _0\\|$\n",
    "* We know that $\\|u(t)\\|$ decreases in time (energy diffuses $\\Rightarrow$ not growing)\n",
    "* Hence we require $\\|u _h(t+\\tau)\\| \\leq \\|u _h(t)\\|$\n",
    "* In other words, eigenvalues of $I + \\tau k\\Delta _h$ are between $-1$ and $1$\n",
    "* **Exercise:** derive the stability condition on $\\tau$ (and $h$ and $k$)"
   ]
  },
  {
   "cell_type": "markdown",
   "metadata": {
    "slideshow": {
     "slide_type": "slide"
    }
   },
   "source": [
    "### So that you know: Implicit discretization\n",
    "$$\n",
    "\\begin{align*}\n",
    "\\frac{u _h(t+\\tau)-u _h(t)}{\\tau} &= k \\frac{\\Delta _h u _h(t+\\tau) + \\Delta _h u _h(t)}{2}\n",
    "\\qquad \\text{for }(x,y)\\in\\Omega\n",
    "\\\\\n",
    "u _h| _{t=0} &= u _0 \\\\\n",
    "u _h| _{\\Gamma} &= 0\n",
    "\\end{align*}\n",
    "$$\n",
    "\n",
    "* This is called the \"Crank-Nicolson\" scheme\n",
    "\n",
    "* Here we do need to invert $\\Delta _h$:\n",
    "$$\n",
    "u _h(t+\\tau) = \\big(I - {\\textstyle \\frac{1}{2}} \\tau \\Delta _h\\big)^{-1} \\big(I + {\\textstyle \\frac{1}{2}} \\tau \\Delta _h\\big) u _h(t)\n",
    "$$\n",
    "\n",
    "* **Exercise**: approximation error is $O(\\tau^2 + h^2)$\n",
    "\n",
    "* **Exercise**: stability is unconditional (i.e., always stable!)\n",
    "\n",
    "* If we can efficiently invert $(I - \\frac{1}{2}  \\tau \\Delta _h)^{-1}$ then it is better than the explicit!"
   ]
  },
  {
   "cell_type": "markdown",
   "metadata": {
    "slideshow": {
     "slide_type": "slide"
    }
   },
   "source": [
    "## Cool application: Image processing\n",
    "\n",
    "* Let's solve\n",
    "$$\n",
    "\\begin{align*}\n",
    "\\frac{u _h(t+\\tau)-u _h(t)}{\\tau} &= k \\Delta _h u _h(t)\n",
    "\\qquad \\text{for }(x,y)\\in\\Omega\n",
    "\\\\\n",
    "u _h| _{t=0} &= u _0 \\\\\n",
    "u _h| _{\\Gamma} &= u _0| _{\\Gamma}\n",
    "\\end{align*}\n",
    "$$\n",
    "Here $u _0(x,y)$ is the image we want to process\n",
    "<img src=\"fig/photo_noisy.png\">"
   ]
  },
  {
   "cell_type": "code",
   "execution_count": 1,
   "metadata": {
    "slideshow": {
     "slide_type": "slide"
    }
   },
   "outputs": [
    {
     "name": "stderr",
     "output_type": "stream",
     "text": [
      "c:\\users\\hp\\anaconda3\\lib\\site-packages\\IPython\\html.py:12: ShimWarning: The `IPython.html` package has been deprecated since IPython 4.0. You should import from `notebook` instead. `IPython.html.widgets` has moved to `ipywidgets`.\n",
      "  warn(\"The `IPython.html` package has been deprecated since IPython 4.0. \"\n"
     ]
    },
    {
     "ename": "ImportError",
     "evalue": "Numba needs NumPy 1.21 or less",
     "output_type": "error",
     "traceback": [
      "\u001b[1;31m---------------------------------------------------------------------------\u001b[0m",
      "\u001b[1;31mImportError\u001b[0m                               Traceback (most recent call last)",
      "\u001b[1;32m~\\AppData\\Local\\Temp\\ipykernel_5328\\491715262.py\u001b[0m in \u001b[0;36m<module>\u001b[1;34m\u001b[0m\n\u001b[0;32m      1\u001b[0m \u001b[1;32mfrom\u001b[0m \u001b[0mIPython\u001b[0m\u001b[1;33m.\u001b[0m\u001b[0mhtml\u001b[0m\u001b[1;33m.\u001b[0m\u001b[0mwidgets\u001b[0m \u001b[1;32mimport\u001b[0m \u001b[0minteract\u001b[0m\u001b[1;33m\u001b[0m\u001b[1;33m\u001b[0m\u001b[0m\n\u001b[0;32m      2\u001b[0m \u001b[1;32mfrom\u001b[0m \u001b[0mPIL\u001b[0m \u001b[1;32mimport\u001b[0m \u001b[0mImage\u001b[0m\u001b[1;33m\u001b[0m\u001b[1;33m\u001b[0m\u001b[0m\n\u001b[1;32m----> 3\u001b[1;33m \u001b[1;32mimport\u001b[0m \u001b[0mnumba\u001b[0m \u001b[1;32mas\u001b[0m \u001b[0mnb\u001b[0m\u001b[1;33m\u001b[0m\u001b[1;33m\u001b[0m\u001b[0m\n\u001b[0m\u001b[0;32m      4\u001b[0m \u001b[1;32mimport\u001b[0m \u001b[0mnumpy\u001b[0m \u001b[1;32mas\u001b[0m \u001b[0mnp\u001b[0m\u001b[1;33m\u001b[0m\u001b[1;33m\u001b[0m\u001b[0m\n\u001b[0;32m      5\u001b[0m \u001b[1;32mimport\u001b[0m \u001b[0mscipy\u001b[0m \u001b[1;32mas\u001b[0m \u001b[0msp\u001b[0m\u001b[1;33m\u001b[0m\u001b[1;33m\u001b[0m\u001b[0m\n",
      "\u001b[1;32mc:\\users\\hp\\anaconda3\\lib\\site-packages\\numba\\__init__.py\u001b[0m in \u001b[0;36m<module>\u001b[1;34m\u001b[0m\n\u001b[0;32m    198\u001b[0m \u001b[1;33m\u001b[0m\u001b[0m\n\u001b[0;32m    199\u001b[0m \u001b[0m_ensure_llvm\u001b[0m\u001b[1;33m(\u001b[0m\u001b[1;33m)\u001b[0m\u001b[1;33m\u001b[0m\u001b[1;33m\u001b[0m\u001b[0m\n\u001b[1;32m--> 200\u001b[1;33m \u001b[0m_ensure_critical_deps\u001b[0m\u001b[1;33m(\u001b[0m\u001b[1;33m)\u001b[0m\u001b[1;33m\u001b[0m\u001b[1;33m\u001b[0m\u001b[0m\n\u001b[0m\u001b[0;32m    201\u001b[0m \u001b[1;33m\u001b[0m\u001b[0m\n\u001b[0;32m    202\u001b[0m \u001b[1;31m# we know llvmlite is working as the above tests passed, import it now as SVML\u001b[0m\u001b[1;33m\u001b[0m\u001b[1;33m\u001b[0m\u001b[0m\n",
      "\u001b[1;32mc:\\users\\hp\\anaconda3\\lib\\site-packages\\numba\\__init__.py\u001b[0m in \u001b[0;36m_ensure_critical_deps\u001b[1;34m()\u001b[0m\n\u001b[0;32m    138\u001b[0m         \u001b[1;32mraise\u001b[0m \u001b[0mImportError\u001b[0m\u001b[1;33m(\u001b[0m\u001b[1;34m\"Numba needs NumPy 1.18 or greater\"\u001b[0m\u001b[1;33m)\u001b[0m\u001b[1;33m\u001b[0m\u001b[1;33m\u001b[0m\u001b[0m\n\u001b[0;32m    139\u001b[0m     \u001b[1;32melif\u001b[0m \u001b[0mnumpy_version\u001b[0m \u001b[1;33m>\u001b[0m \u001b[1;33m(\u001b[0m\u001b[1;36m1\u001b[0m\u001b[1;33m,\u001b[0m \u001b[1;36m21\u001b[0m\u001b[1;33m)\u001b[0m\u001b[1;33m:\u001b[0m\u001b[1;33m\u001b[0m\u001b[1;33m\u001b[0m\u001b[0m\n\u001b[1;32m--> 140\u001b[1;33m         \u001b[1;32mraise\u001b[0m \u001b[0mImportError\u001b[0m\u001b[1;33m(\u001b[0m\u001b[1;34m\"Numba needs NumPy 1.21 or less\"\u001b[0m\u001b[1;33m)\u001b[0m\u001b[1;33m\u001b[0m\u001b[1;33m\u001b[0m\u001b[0m\n\u001b[0m\u001b[0;32m    141\u001b[0m \u001b[1;33m\u001b[0m\u001b[0m\n\u001b[0;32m    142\u001b[0m     \u001b[1;32mtry\u001b[0m\u001b[1;33m:\u001b[0m\u001b[1;33m\u001b[0m\u001b[1;33m\u001b[0m\u001b[0m\n",
      "\u001b[1;31mImportError\u001b[0m: Numba needs NumPy 1.21 or less"
     ]
    }
   ],
   "source": [
    "from IPython.html.widgets import interact\n",
    "from PIL import Image\n",
    "import numba as nb\n",
    "import numpy as np\n",
    "import scipy as sp\n",
    "import matplotlib.pyplot as plt\n",
    "img=Image.open('fig/photo.png')\n",
    "imarray_orig=np.array(img)\n",
    "img=Image.open('fig/photo_noisy.png')\n",
    "imarray=np.array(img)\n",
    "imarray_noisy=imarray;\n",
    "\n",
    "import PIL\n",
    "from IPython.display import display, Image\n",
    "from io import BytesIO\n",
    "\n",
    "def display_img_array(ima):\n",
    "    im = PIL.Image.fromarray(ima)\n",
    "    bio = BytesIO()\n",
    "    im.save(bio, format='png')\n",
    "    display(Image(bio.getvalue(), format='png', retina=True))\n",
    "\n",
    "import pyamg\n",
    "A = sp.sparse.csr_matrix(pyamg.gallery.laplacian.poisson(imarray.shape))\n",
    "\n",
    "imarray = imarray.astype(float)\n",
    "vec = imarray.reshape(-1,1);\n",
    "for iter in range(1, 20):\n",
    "    vec += -0.1*A*vec;\n",
    "imarray = vec.reshape(imarray.shape);\n",
    "imarray_blur = imarray.astype(dtype=\"uint8\")\n",
    "\n",
    "def set_cursor(i):\n",
    "    if i==0:\n",
    "        display_img_array(imarray_orig)\n",
    "    elif i==1:\n",
    "        display_img_array(imarray_noisy.astype(dtype=\"uint8\"))\n",
    "    else:\n",
    "        display_img_array(imarray_blur)\n",
    "\n",
    "interact(set_cursor, i=(0, 2, 1))\n",
    "\n",
    "#display_img_array(imarray_orig)\n",
    "#display_img_array(imarray_noisy.astype(dtype=\"uint8\"))\n",
    "#display_img_array(imarray_blur)"
   ]
  },
  {
   "cell_type": "code",
   "execution_count": 2,
   "metadata": {
    "run_control": {
     "breakpoint": false
    }
   },
   "outputs": [
    {
     "data": {
      "text/plain": [
       "(625, 500)"
      ]
     },
     "execution_count": 2,
     "metadata": {},
     "output_type": "execute_result"
    }
   ],
   "source": [
    "imarray.shape"
   ]
  },
  {
   "cell_type": "markdown",
   "metadata": {
    "slideshow": {
     "slide_type": "slide"
    }
   },
   "source": [
    "### \"Anisotropic\" diffusion\n",
    "\n",
    "* Let's solve\n",
    "$$\n",
    "\\begin{align*}\n",
    "u' &= {\\rm div} (k \\nabla u)\n",
    "\\qquad \\text{for }(x,y)\\in\\Omega\n",
    "\\\\\n",
    "u| _{t=0} &= u _0 \\\\\n",
    "u| _{\\Gamma} &= u _0| _{\\Gamma}\n",
    "\\end{align*},\n",
    "$$\n",
    "where $k=k(\\nabla u) = 1/\\sqrt{1+|\\nabla u|^2}$ ($|v|$ is the length of $v$)\n",
    "\n",
    "* We use the explicit finite difference method:\n",
    "\n",
    "* We discretize it with $\\tau=0.25$ below:"
   ]
  },
  {
   "cell_type": "code",
   "execution_count": 2,
   "metadata": {
    "scrolled": false,
    "slideshow": {
     "slide_type": "slide"
    }
   },
   "outputs": [
    {
     "data": {
      "application/vnd.jupyter.widget-view+json": {
       "model_id": "466b39e4eaeb464c9e8863f7f62f185e",
       "version_major": 2,
       "version_minor": 0
      },
      "text/plain": [
       "interactive(children=(IntSlider(value=4, description='i', max=9), Output()), _dom_classes=('widget-interact',)…"
      ]
     },
     "metadata": {},
     "output_type": "display_data"
    },
    {
     "data": {
      "text/plain": [
       "<function __main__.set_cursor(i)>"
      ]
     },
     "execution_count": 2,
     "metadata": {},
     "output_type": "execute_result"
    }
   ],
   "source": [
    "imarray = imarray_noisy.astype(float)\n",
    "\n",
    "@nb.jit\n",
    "def time_step(imarray):\n",
    "    new_imarray = imarray;\n",
    "    for i in range(1,imarray.shape[0]-2):\n",
    "        for j in range(1,imarray.shape[1]-2):\n",
    "            dx1 = (imarray[i+1,j]-imarray[i,j]);\n",
    "            dx0 = (imarray[i,j]-imarray[i-1,j]);\n",
    "            dx = (dx1+dx0)/2;\n",
    "            dy1 = (imarray[i,j+1]-imarray[i,j]);\n",
    "            dy0 = (imarray[i,j]-imarray[i,j-1]);\n",
    "            dy = (dy0+dy1)/2;\n",
    "            new_imarray[i,j] += 0.25*(dx1/np.sqrt(1+dx1*dx1+dy*dy)-dx0/np.sqrt(1+dx0*dx0+dy*dy));\n",
    "            new_imarray[i,j] += 0.25*(dy1/np.sqrt(1+dy1*dy1+dx*dx)-dy0/np.sqrt(1+dy0*dy0+dx*dx));\n",
    "    imarray = new_imarray;\n",
    "\n",
    "%matplotlib inline\n",
    "import matplotlib.pyplot as plt\n",
    "import matplotlib.animation as animation\n",
    "\n",
    "num_steps = 20\n",
    "num_images = 10\n",
    "imarray_denoise = []\n",
    "for outer_iter in range(num_images): # how many images will be produced\n",
    "    for iter in range(num_steps): # how many time steps to do for each image\n",
    "        time_step(imarray)\n",
    "    imarray_denoise.append(imarray.astype(dtype=\"uint8\"))\n",
    "        #plt.imshow(imarray_denoise)\n",
    "        #display_img_array(imarray_denoise)\n",
    "\n",
    "def set_cursor(i):\n",
    "    display_img_array(imarray_denoise[i])\n",
    "    #display_img_array(imarray_orig)\n",
    "\n",
    "interact(set_cursor, i=(0, num_images-1, 1))"
   ]
  },
  {
   "cell_type": "markdown",
   "metadata": {
    "slideshow": {
     "slide_type": "slide"
    }
   },
   "source": [
    "## To install the JSAnimation library\n",
    "\n",
    "### (not working as of 2023)\n",
    "\n",
    "In order to view animation of noise removal you need to install JSAnimation library. The easiset way to do this is to run from command line:\n",
    "\n",
    "```\n",
    "conda install --channel https://conda.binstar.org/IOOS jsanimation\n",
    "```\n",
    "\n",
    "Win-64 users:\n",
    "```\n",
    "conda install --channel https://conda.binstar.org/melund JSAnimation\n",
    "```\n",
    "\n",
    "You can explore all available packages of that library by running:\n",
    "\n",
    "```\n",
    "binstar search -t conda jsanimation\n",
    "```"
   ]
  },
  {
   "cell_type": "code",
   "execution_count": 2,
   "metadata": {
    "slideshow": {
     "slide_type": "slide"
    }
   },
   "outputs": [
    {
     "ename": "ModuleNotFoundError",
     "evalue": "No module named 'JSAnimation'",
     "output_type": "error",
     "traceback": [
      "\u001b[1;31m---------------------------------------------------------------------------\u001b[0m",
      "\u001b[1;31mModuleNotFoundError\u001b[0m                       Traceback (most recent call last)",
      "\u001b[1;32m~\\AppData\\Local\\Temp\\ipykernel_5328\\3515453586.py\u001b[0m in \u001b[0;36m<module>\u001b[1;34m\u001b[0m\n\u001b[1;32m----> 1\u001b[1;33m \u001b[1;32mfrom\u001b[0m \u001b[0mJSAnimation\u001b[0m \u001b[1;32mimport\u001b[0m \u001b[0mIPython_display\u001b[0m\u001b[1;33m\u001b[0m\u001b[1;33m\u001b[0m\u001b[0m\n\u001b[0m\u001b[0;32m      2\u001b[0m \u001b[1;33m\u001b[0m\u001b[0m\n\u001b[0;32m      3\u001b[0m \u001b[0mfig\u001b[0m \u001b[1;33m=\u001b[0m \u001b[0mplt\u001b[0m\u001b[1;33m.\u001b[0m\u001b[0mfigure\u001b[0m\u001b[1;33m(\u001b[0m\u001b[0mfigsize\u001b[0m\u001b[1;33m=\u001b[0m\u001b[1;33m(\u001b[0m\u001b[1;36m12\u001b[0m\u001b[1;33m,\u001b[0m \u001b[1;36m9\u001b[0m\u001b[1;33m)\u001b[0m\u001b[1;33m)\u001b[0m\u001b[1;33m\u001b[0m\u001b[1;33m\u001b[0m\u001b[0m\n\u001b[0;32m      4\u001b[0m \u001b[0mplt\u001b[0m\u001b[1;33m.\u001b[0m\u001b[0maxis\u001b[0m\u001b[1;33m(\u001b[0m\u001b[1;34m'off'\u001b[0m\u001b[1;33m)\u001b[0m\u001b[1;33m\u001b[0m\u001b[1;33m\u001b[0m\u001b[0m\n\u001b[0;32m      5\u001b[0m \u001b[0mim\u001b[0m \u001b[1;33m=\u001b[0m \u001b[0mplt\u001b[0m\u001b[1;33m.\u001b[0m\u001b[0mimshow\u001b[0m\u001b[1;33m(\u001b[0m\u001b[0mimarray_denoise\u001b[0m\u001b[1;33m[\u001b[0m\u001b[1;36m0\u001b[0m\u001b[1;33m]\u001b[0m\u001b[1;33m,\u001b[0m \u001b[0mcmap\u001b[0m\u001b[1;33m=\u001b[0m\u001b[1;34m'gray'\u001b[0m\u001b[1;33m)\u001b[0m\u001b[1;33m\u001b[0m\u001b[1;33m\u001b[0m\u001b[0m\n",
      "\u001b[1;31mModuleNotFoundError\u001b[0m: No module named 'JSAnimation'"
     ]
    }
   ],
   "source": [
    "from JSAnimation import IPython_display\n",
    "\n",
    "fig = plt.figure(figsize=(12, 9))\n",
    "plt.axis('off')\n",
    "im = plt.imshow(imarray_denoise[0], cmap='gray')\n",
    "\n",
    "def animate(i):\n",
    "    im.set_data(imarray_denoise[i])\n",
    "    return [im]\n",
    "\n",
    "def init():\n",
    "    im.set_data(imarray_denoise[0])\n",
    "    return im\n",
    "\n",
    "animation.FuncAnimation(fig, animate, frames=num_images, \n",
    "                        init_func=init,interval=300, blit=False)"
   ]
  },
  {
   "cell_type": "markdown",
   "metadata": {
    "slideshow": {
     "slide_type": "slide"
    }
   },
   "source": [
    "## Advantages of the Finite Difference Method:\n",
    "\n",
    "* Simple, easy to code\n",
    "\n",
    "## Disadvantages of the Finite Difference Method:\n",
    "\n",
    "* Works nicely only in simple domains (line segment, square)\n",
    "    * Typical applications:\n",
    "    * Finance: p(t,x): probability density that a stock costs $x$ at time $t$; domain: $x _{\\min} \\leq x \\leq x _{\\max}$\n",
    "    * Image processing: domain is a rectangle\n",
    "    * Problems in infinite domains, after we truncate the domain to a square (e.g., in quantum mechanic calculations)\n",
    "* Adaptivity (non-uniform grids) is hard\n",
    "* Stability is not granted\n",
    "* Some desired properties (of the original problem) is hard to achieve, e.g., ${\\rm div} _h \\nabla _h = \\Delta _h$, $\\nabla _h {\\rm div} _h = 0$, etc."
   ]
  },
  {
   "cell_type": "markdown",
   "metadata": {
    "slideshow": {
     "slide_type": "slide"
    }
   },
   "source": [
    "## Finite Volume Method\n",
    "\n",
    "Idea:\n",
    "\n",
    "* Start with a physical law\n",
    "${\\rm div}(k\\nabla u) = f$\n",
    "* Divide onto cells $\\Omega = \\bigcup _i \\Omega _i$\n",
    "* (Idea: We want to assume that $u$ is constant in each cell. Then we just need one equation per cell (to find that constant). But we are not going to assume this yet.)\n",
    "* Integrate the equation over the cell:\n",
    "$$\n",
    "\\int _{\\Omega _i} {\\rm div}(k\\nabla u)\n",
    "= \\int _{\\partial\\Omega _i} k\\nabla u\\cdot n\n",
    "= \\int _{\\Omega _i} f\n",
    "$$\n",
    "* $k\\nabla u$ has a clear meaning here: it is the **flux** through $\\partial\\Omega _i$.\n",
    "* It hence can be approximated by finite differences.\n",
    "* The discretization will hence look like\n",
    "$$\n",
    "\\begin{align*}\n",
    "\\sum _{\\Omega _j {\\rm \\ adj.to\\ }\\Omega _i} \\Big(\n",
    "&\n",
    "{\\rm Area}(\\Omega _i\\cap\\Omega _j)\n",
    "\\\\&\n",
    "k \\frac{\\big((u| _{\\Omega _j})-(u| _{\\Omega _i})\\big)}{\\text{distance between centers of $\\Omega _i$ and $\\Omega _j$}}\n",
    "\\Big)\n",
    "\\end{align*} = \n",
    "$$\n",
    "$$\n",
    "=\\int _{\\Omega _i} f\n",
    "$$\n"
   ]
  },
  {
   "cell_type": "markdown",
   "metadata": {
    "slideshow": {
     "slide_type": "slide"
    }
   },
   "source": [
    "##### Questions?\n"
   ]
  }
 ],
 "metadata": {
  "celltoolbar": "Slideshow",
  "kernelspec": {
   "display_name": "Python 3 (ipykernel)",
   "language": "python",
   "name": "python3"
  },
  "language_info": {
   "codemirror_mode": {
    "name": "ipython",
    "version": 3
   },
   "file_extension": ".py",
   "mimetype": "text/x-python",
   "name": "python",
   "nbconvert_exporter": "python",
   "pygments_lexer": "ipython3",
   "version": "3.9.13"
  }
 },
 "nbformat": 4,
 "nbformat_minor": 1
}
