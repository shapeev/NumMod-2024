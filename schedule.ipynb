{
 "cells": [
  {
   "cell_type": "markdown",
   "metadata": {},
   "source": [
    "# Numerical Modeling  \n",
    "\n",
    "## Skoltech, Term 3, 2024"
   ]
  },
  {
   "cell_type": "markdown",
   "metadata": {},
   "source": [
    "**Course instructor:**\n",
    "Alexander Shapeev\n",
    "\n",
    "**TA:**\n",
    "* Daniil Egorov, PhD student"
   ]
  },
  {
   "cell_type": "markdown",
   "metadata": {},
   "source": [
    "[Course syllabus](syllabus.ipynb)\n",
    "\n",
    "| Week | &nbsp; | Monday | Tuesday | Thursday | &nbsp; |\n",
    "|---|---|---|---|---|---|\n",
    "|1 | (Jan 29 - Feb 2)  | [Lecture 1](lecture-1.ipynb) | [Lecture 2](lecture-2.ipynb) | [Tutorial 1](tutorial-1.ipynb) | &nbsp; | \n",
    "|2 | (Feb 5-9) | [Lecture 3](lecture-3.ipynb) | [Lecture 4](lecture-4.ipynb) | &nbsp; | [Problem set 1](PS1.ipynb) _due Saturday, Feb 17_ | \n",
    "|3 | (Feb 12-16) | &nbsp; | [Lecture 5](lecture-5.ipynb) | [Lecture 6](lecture-6.ipynb) | &nbsp; | \n",
    "|4 | (Feb 19-23) | &nbsp; | &nbsp; | &nbsp; | &nbsp; | \n",
    "|5 | (Feb 26- Mar 1) | &nbsp; | &nbsp; | &nbsp; | &nbsp; | \n",
    "|6 | (Mar 4-8) | inv. lecture Evgeny | inv. lecture Max | &nbsp; | &nbsp; | \n",
    "|7 | (Mar 11-15) | &nbsp; | &nbsp; | &nbsp; | &nbsp; | \n",
    "|8 | (Mar 18-22) | &nbsp; | &nbsp; | &nbsp; | &nbsp; | "
   ]
  },
  {
   "cell_type": "code",
   "execution_count": null,
   "metadata": {},
   "outputs": [],
   "source": []
  }
 ],
 "metadata": {
  "kernelspec": {
   "display_name": "Python 3 (ipykernel)",
   "language": "python",
   "name": "python3"
  },
  "language_info": {
   "codemirror_mode": {
    "name": "ipython",
    "version": 3
   },
   "file_extension": ".py",
   "mimetype": "text/x-python",
   "name": "python",
   "nbconvert_exporter": "python",
   "pygments_lexer": "ipython3",
   "version": "3.9.13"
  }
 },
 "nbformat": 4,
 "nbformat_minor": 1
}
